{
 "cells": [
  {
   "attachments": {},
   "cell_type": "markdown",
   "metadata": {},
   "source": [
    "# Path management tutorial\n",
    "\n",
    "Objective\n",
    "\n",
    "To create the following path independently from the operative system and current working directory:\n",
    "\n",
    "    ./data/raw\n",
    "\n",
    "using the path management systems:\n",
    "\n",
    "- [`os`](https://docs.python.org/3/library/os.html)\n",
    "- [`pathlib`](https://docs.python.org/3/library/pathlib.html)\n",
    "- [`PyFilesystem2`](https://docs.pyfilesystem.org/en/latest/)\n"
   ]
  },
  {
   "attachments": {},
   "cell_type": "markdown",
   "metadata": {},
   "source": [
    "## os"
   ]
  },
  {
   "cell_type": "code",
   "execution_count": 11,
   "metadata": {},
   "outputs": [
    {
     "name": "stdout",
     "output_type": "stream",
     "text": [
      "Current working directory:\n",
      "c:\\Users\\aleja\\Python\\path_management\\notebooks\n",
      "Parent directory:\n",
      "..\n",
      "Raw data directory:\n",
      "c:\\Users\\aleja\\Python\\path_management\\notebooks\\..\\data\\raw\n",
      "True\n",
      "True\n",
      "['c:\\\\Users\\\\aleja\\\\Python\\\\path_management\\\\notebooks\\\\..\\\\data\\\\raw\\\\.gitkeep', 'c:\\\\Users\\\\aleja\\\\Python\\\\path_management\\\\notebooks\\\\..\\\\data\\\\raw\\\\os']\n"
     ]
    }
   ],
   "source": [
    "import os\n",
    "\n",
    "CURRENT_DIR = os.getcwd() \n",
    "print(\"Current working directory:\\n\", CURRENT_DIR)\n",
    "PARENT_DIR = os.pardir\n",
    "print(\"Parent directory:\\n\", PARENT_DIR)\n",
    "DATA_DIR = os.path.join(CURRENT_DIR, PARENT_DIR, 'data', 'raw')\n",
    "print(\"Raw data directory:\\n\", DATA_DIR)\n",
    "\n",
    "# Ask if the directory exist\n",
    "print(os.path.exists(DATA_DIR))\n",
    "\n",
    "# Ask if it is a directory\n",
    "print(os.path.isdir(DATA_DIR))\n",
    "\n",
    "# Make a new folder\n",
    "os.mkdir(os.path.join(DATA_DIR, 'os'))\n",
    "\n",
    "# List the items in raw/\n",
    "print([os.path.join(DATA_DIR, item) for item in os.listdir(DATA_DIR)])"
   ]
  },
  {
   "attachments": {},
   "cell_type": "markdown",
   "metadata": {},
   "source": [
    "## pathlib"
   ]
  },
  {
   "cell_type": "code",
   "execution_count": 17,
   "metadata": {},
   "outputs": [
    {
     "name": "stdout",
     "output_type": "stream",
     "text": [
      "Current working directory:\n",
      " C:\\Users\\aleja\\Python\\path_management\\notebooks\n",
      "Parent directory:\n",
      " C:\\Users\\aleja\\Python\\path_management\n",
      "Raw data directory:\n",
      " C:\\Users\\aleja\\Python\\path_management\\data\\raw\n",
      "True\n",
      "True\n",
      "[WindowsPath('C:/Users/aleja/Python/path_management/data/raw/.gitkeep'), WindowsPath('C:/Users/aleja/Python/path_management/data/raw/os'), WindowsPath('C:/Users/aleja/Python/path_management/data/raw/pathlib')]\n"
     ]
    }
   ],
   "source": [
    "import pathlib\n",
    "\n",
    "CURRENT_DIR = pathlib.Path().resolve()\n",
    "print(\"Current working directory:\\n\", CURRENT_DIR)\n",
    "PARENT_DIR = CURRENT_DIR.parent\n",
    "print(\"Parent directory:\\n\", PARENT_DIR)\n",
    "DATA_DIR = PARENT_DIR.joinpath('data', 'raw')\n",
    "print(\"Raw data directory:\\n\", DATA_DIR)\n",
    "\n",
    "# Ask if the directory exist\n",
    "print(DATA_DIR.exists())\n",
    "\n",
    "# Ask if it is a directory\n",
    "print(DATA_DIR.is_dir())\n",
    "\n",
    "# Make a new folder\n",
    "DATA_DIR.joinpath('pathlib').mkdir()\n",
    "\n",
    "# List the items in raw/\n",
    "print(list(DATA_DIR.glob('*')))\n"
   ]
  },
  {
   "attachments": {},
   "cell_type": "markdown",
   "metadata": {},
   "source": [
    "# PyFilesystem2"
   ]
  },
  {
   "cell_type": "code",
   "execution_count": 1,
   "metadata": {},
   "outputs": [
    {
     "name": "stdout",
     "output_type": "stream",
     "text": [
      "Raw data directory:\n",
      " <osfs 'c:\\Users\\aleja\\Python\\path_management\\data\\raw'>\n",
      "['.gitkeep', 'fs', 'os', 'pathlib']\n",
      "/fs\n",
      "/os\n",
      "/pathlib\n",
      "/.gitkeep\n",
      "[]\n",
      "/pathlib/.gitkeep\n",
      "['You found me!']\n"
     ]
    }
   ],
   "source": [
    "import fs\n",
    "\n",
    "DATA_DIR = fs.open_fs(\"../data/raw/\")\n",
    "print(\"Raw data directory:\\n\", DATA_DIR)\n",
    "\n",
    "# List the items in raw/\n",
    "print(DATA_DIR.listdir(\".\"))\n",
    "\n",
    "# Make a new folder\n",
    "DATA_DIR.makedir(\"fs\", recreate=True)\n",
    "\n",
    "for path in DATA_DIR.walk.dirs():\n",
    "    print(path)\n",
    "\n",
    "for path in DATA_DIR.walk.files():\n",
    "    print(path)\n",
    "    \n",
    "    with DATA_DIR.open(path) as data_file:\n",
    "        print(data_file.readlines())\n"
   ]
  },
  {
   "attachments": {},
   "cell_type": "markdown",
   "metadata": {},
   "source": [
    "## Create relative references"
   ]
  },
  {
   "cell_type": "code",
   "execution_count": 25,
   "metadata": {},
   "outputs": [
    {
     "name": "stdout",
     "output_type": "stream",
     "text": [
      "Raw data directory:\n",
      " c:\\Users\\aleja\\Python\\path_management\\data\\raw\n"
     ]
    }
   ],
   "source": [
    "import pyprojroot\n",
    "\n",
    "DATA_DIR = pyprojroot.here(\"data\").joinpath(\"raw\")\n",
    "print(\"Raw data directory:\\n\", DATA_DIR)"
   ]
  },
  {
   "cell_type": "code",
   "execution_count": 28,
   "metadata": {},
   "outputs": [
    {
     "name": "stdout",
     "output_type": "stream",
     "text": [
      "Raw data directory:\n",
      " C:\\Users\\aleja\\Python\\path_management\\data\\raw\n"
     ]
    }
   ],
   "source": [
    "import pyhere\n",
    "\n",
    "DATA_DIR = pyhere.here().resolve() / 'data' / 'raw'\n",
    "print(\"Raw data directory:\\n\", DATA_DIR)\n"
   ]
  },
  {
   "cell_type": "code",
   "execution_count": 29,
   "metadata": {},
   "outputs": [],
   "source": [
    "def make_dir_function(dir_name):\n",
    "    def dir_function(*args):\n",
    "        return  pyprojroot.here().joinpath(dir_name, *args)\n",
    "    return dir_function"
   ]
  },
  {
   "cell_type": "code",
   "execution_count": 31,
   "metadata": {},
   "outputs": [
    {
     "name": "stdout",
     "output_type": "stream",
     "text": [
      "Raw data directory:\n",
      " c:\\Users\\aleja\\Python\\path_management\\data\\raw\n"
     ]
    }
   ],
   "source": [
    "DATA_DIR = make_dir_function('data')\n",
    "print(\"Raw data directory:\\n\", DATA_DIR('raw'))\n"
   ]
  }
 ],
 "metadata": {
  "kernelspec": {
   "display_name": ".venv",
   "language": "python",
   "name": "python3"
  },
  "language_info": {
   "codemirror_mode": {
    "name": "ipython",
    "version": 3
   },
   "file_extension": ".py",
   "mimetype": "text/x-python",
   "name": "python",
   "nbconvert_exporter": "python",
   "pygments_lexer": "ipython3",
   "version": "3.11.0"
  },
  "orig_nbformat": 4,
  "vscode": {
   "interpreter": {
    "hash": "49f0b8f851ff1e097afd0eeddea4eae255e834794e3fd1eaad2c1e45dcad1a50"
   }
  }
 },
 "nbformat": 4,
 "nbformat_minor": 2
}
